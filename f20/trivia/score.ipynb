{
 "cells": [
  {
   "cell_type": "code",
   "execution_count": 1,
   "metadata": {},
   "outputs": [],
   "source": [
    "import pandas as pd"
   ]
  },
  {
   "cell_type": "code",
   "execution_count": 2,
   "metadata": {},
   "outputs": [],
   "source": [
    "options = \"ABCD\"\n",
    "opt_cols = [f\"Probability of {opt}\" for opt in options]\n",
    "pdf = pd.read_csv(\"players.csv\") # player DataFrame\n",
    "players = dict(pdf.set_index(\"Email Address\")[\"What do you want your display name to be?\"])\n",
    "gdf = pd.read_csv(\"guesses.csv\") # guess DataFrame\n",
    "adf = pd.read_csv(\"answers.csv\").set_index(\"qnum\") # answer DataFrame\n",
    "adf[\"correct_letter\"] = adf[\"correct\"].apply(lambda s: s[:1])"
   ]
  },
  {
   "cell_type": "code",
   "execution_count": 3,
   "metadata": {},
   "outputs": [
    {
     "name": "stdout",
     "output_type": "stream",
     "text": [
      "0.0\n",
      "2.0\n",
      "0.12000000000000002\n",
      "1.32\n",
      "0.26999999999999996\n",
      "1.0699999999999998\n"
     ]
    }
   ],
   "source": [
    "def brier(probs, idx_correct):\n",
    "    tot = sum(probs)\n",
    "    if tot == 0:\n",
    "        return 2\n",
    "    probs = [p/tot for p in probs]\n",
    "    score = 0\n",
    "    for i in range(len(probs)):\n",
    "        expected = int(i == idx_correct) # 1 or 0\n",
    "        score += (probs[i] - expected) ** 2\n",
    "    return score\n",
    "\n",
    "print(brier([100,0,0,0], 0))\n",
    "print(brier([100,0,0,0], 3))\n",
    "print(brier([0.1,0.1,0.1,0.7], 3))\n",
    "print(brier([0.1,0.1,0.1,0.7], 1))\n",
    "print(brier([0.15,0.15,0.15,0.55], 3))\n",
    "print(brier([0.15,0.15,0.15,0.55], 1))"
   ]
  },
  {
   "cell_type": "code",
   "execution_count": 7,
   "metadata": {},
   "outputs": [],
   "source": [
    "def row_brier(row):\n",
    "    qnum = row[\"Question Number\"]\n",
    "    if not qnum in adf.index:\n",
    "        return 2\n",
    "    correct = adf.loc[qnum, \"correct_letter\"]\n",
    "    return brier(list(row[opt_cols]), options.index(correct))\n",
    "\n",
    "for i in range(len(gdf)):\n",
    "    gdf.loc[i, \"brier\"] = row_brier(gdf.loc[i])"
   ]
  },
  {
   "cell_type": "code",
   "execution_count": 9,
   "metadata": {},
   "outputs": [
    {
     "data": {
      "text/html": [
       "<div>\n",
       "<style scoped>\n",
       "    .dataframe tbody tr th:only-of-type {\n",
       "        vertical-align: middle;\n",
       "    }\n",
       "\n",
       "    .dataframe tbody tr th {\n",
       "        vertical-align: top;\n",
       "    }\n",
       "\n",
       "    .dataframe thead th {\n",
       "        text-align: right;\n",
       "    }\n",
       "</style>\n",
       "<table border=\"1\" class=\"dataframe\">\n",
       "  <thead>\n",
       "    <tr style=\"text-align: right;\">\n",
       "      <th></th>\n",
       "      <th>player</th>\n",
       "      <th>brier</th>\n",
       "    </tr>\n",
       "  </thead>\n",
       "  <tbody>\n",
       "    <tr>\n",
       "      <th>0</th>\n",
       "      <td>Tyler</td>\n",
       "      <td>1.745</td>\n",
       "    </tr>\n",
       "  </tbody>\n",
       "</table>\n",
       "</div>"
      ],
      "text/plain": [
       "  player  brier\n",
       "0  Tyler  1.745"
      ]
     },
     "execution_count": 9,
     "metadata": {},
     "output_type": "execute_result"
    }
   ],
   "source": [
    "def score_user(email, start, end):\n",
    "    df = gdf[gdf[\"Email Address\"] == email]\n",
    "    df = df.drop_duplicates(subset=\"Question Number\", keep=\"first\")\n",
    "    df = df.set_index(\"Question Number\", drop=False)\n",
    "    score = 0\n",
    "    for qnum in range(start, end+1):\n",
    "        score += df.loc[qnum, \"brier\"] if qnum in df.index else 2\n",
    "    return score\n",
    "\n",
    "def score_users(start, end):\n",
    "    rows = []\n",
    "    for email, alias in players.items():\n",
    "        rows.append({\"player\":alias, \"brier\":score_user(email, start, end)})\n",
    "    return pd.DataFrame(rows).sort_values(by=\"brier\")\n",
    "score_users(1, 3)"
   ]
  },
  {
   "cell_type": "code",
   "execution_count": null,
   "metadata": {},
   "outputs": [],
   "source": []
  }
 ],
 "metadata": {
  "kernelspec": {
   "display_name": "Python 3",
   "language": "python",
   "name": "python3"
  },
  "language_info": {
   "codemirror_mode": {
    "name": "ipython",
    "version": 3
   },
   "file_extension": ".py",
   "mimetype": "text/x-python",
   "name": "python",
   "nbconvert_exporter": "python",
   "pygments_lexer": "ipython3",
   "version": "3.7.2"
  }
 },
 "nbformat": 4,
 "nbformat_minor": 2
}
