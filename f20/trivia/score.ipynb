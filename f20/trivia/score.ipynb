{
 "cells": [
  {
   "cell_type": "code",
   "execution_count": null,
   "metadata": {},
   "outputs": [],
   "source": [
    "import pandas as pd\n",
    "from matplotlib import pyplot as plt"
   ]
  },
  {
   "cell_type": "code",
   "execution_count": null,
   "metadata": {},
   "outputs": [],
   "source": [
    "# 0 is best, 2 is worst\n",
    "def brier(probs, idx_correct):\n",
    "    tot = sum(probs)\n",
    "    if tot == 0:\n",
    "        return 2\n",
    "    probs = [p/tot for p in probs]\n",
    "    score = 0\n",
    "    for i in range(len(probs)):\n",
    "        expected = int(i == idx_correct) # 1 or 0\n",
    "        score += (probs[i] - expected) ** 2\n",
    "    return score\n",
    "\n",
    "print(brier([100,0,0,0], 0))\n",
    "print(brier([100,0,0,0], 3))\n",
    "print(brier([0.1,0.1,0.1,0.7], 3))\n",
    "print(brier([0.1,0.1,0.1,0.7], 1))\n",
    "print(brier([0.15,0.15,0.15,0.55], 3))\n",
    "print(brier([0.15,0.15,0.15,0.55], 1))\n",
    "print(brier([1,2,3,4],0))"
   ]
  },
  {
   "cell_type": "code",
   "execution_count": null,
   "metadata": {},
   "outputs": [],
   "source": [
    "options = \"ABCD\"\n",
    "opt_cols = [f\"Probability of {opt}\" for opt in options]\n",
    "pdf = pd.read_csv(\"players.csv\") # player DataFrame\n",
    "players = dict(pdf.set_index(\"Email Address\")[\"What do you want your display name to be?\"])\n",
    "gdf = pd.read_csv(\"guesses.csv\") # guess DataFrame\n",
    "gdf = gdf.drop_duplicates(subset=[\"Email Address\", \"Question Number\"], keep=\"first\")\n",
    "adf = pd.read_csv(\"answers.csv\").set_index(\"qnum\") # answer DataFrame\n",
    "adf[\"correct_letter\"] = adf[\"correct\"].apply(lambda s: s[:1])"
   ]
  },
  {
   "cell_type": "code",
   "execution_count": null,
   "metadata": {},
   "outputs": [],
   "source": [
    "def row_brier(row):\n",
    "    qnum = row[\"Question Number\"]\n",
    "    if not qnum in adf.index:\n",
    "        return 2\n",
    "    correct = adf.loc[qnum, \"correct_letter\"]\n",
    "    return brier(list(row[opt_cols]), options.index(correct))\n",
    "\n",
    "for i in gdf.index:\n",
    "    gdf.loc[i, \"brier\"] = row_brier(gdf.loc[i])"
   ]
  },
  {
   "cell_type": "code",
   "execution_count": null,
   "metadata": {},
   "outputs": [],
   "source": [
    "def score_user(email, start, end):\n",
    "    df = gdf[gdf[\"Email Address\"] == email]\n",
    "    df = df.set_index(\"Question Number\", drop=False)\n",
    "    score = 0\n",
    "    for qnum in range(start, end+1):\n",
    "        score += df.loc[qnum, \"brier\"] if qnum in df.index else 2\n",
    "    return score\n",
    "\n",
    "def score_users(start, end):\n",
    "    rows = []\n",
    "    for email, alias in players.items():\n",
    "        rows.append({\"player\":alias, \"brier\":score_user(email, start, end)})\n",
    "    return pd.DataFrame(rows).sort_values(by=\"brier\")\n",
    "score_users(1, 1)"
   ]
  },
  {
   "cell_type": "code",
   "execution_count": null,
   "metadata": {},
   "outputs": [],
   "source": [
    "def score_table(start, end):\n",
    "    df = pd.DataFrame()\n",
    "    for i in range(start, end+1):\n",
    "        if i in adf.index:\n",
    "            df.loc[i, \"question\"] = adf.loc[i, \"question\"]\n",
    "    for i in range(len(gdf)):\n",
    "        row = gdf.iloc[i]\n",
    "        email = row[\"Email Address\"]\n",
    "        qnum = row[\"Question Number\"]\n",
    "        if email in players and qnum in df.index:\n",
    "            df.loc[qnum, players[email]] = row[\"brier\"]\n",
    "    df = df.fillna(2)\n",
    "    means = df.iloc[:,1:].mean(axis=0)\n",
    "    df.loc[0, \"question\"] = \"average\"\n",
    "    df.iloc[-1,1:] = means\n",
    "    return df.sort_index()\n",
    "\n",
    "with open(\"scores.html\", \"w\") as f:\n",
    "    scores = score_table(1, 20)\n",
    "    scores.round(2).to_html(f)\n",
    "ranked = scores.iloc[0,1:].sort_values()\n",
    "print(ranked.mean(), ranked.median())\n",
    "ranked"
   ]
  },
  {
   "cell_type": "code",
   "execution_count": null,
   "metadata": {},
   "outputs": [],
   "source": [
    "plt.rcParams[\"font.size\"] = 32\n",
    "scores.set_index(\"question\").mean(axis=1).sort_values().plot.barh(figsize=(8, 16))"
   ]
  }
 ],
 "metadata": {
  "kernelspec": {
   "display_name": "Python 3",
   "language": "python",
   "name": "python3"
  },
  "language_info": {
   "codemirror_mode": {
    "name": "ipython",
    "version": 3
   },
   "file_extension": ".py",
   "mimetype": "text/x-python",
   "name": "python",
   "nbconvert_exporter": "python",
   "pygments_lexer": "ipython3",
   "version": "3.7.2"
  }
 },
 "nbformat": 4,
 "nbformat_minor": 2
}
