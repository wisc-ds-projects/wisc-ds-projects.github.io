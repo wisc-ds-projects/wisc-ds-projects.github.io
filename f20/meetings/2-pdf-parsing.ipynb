{
 "cells": [
  {
   "cell_type": "code",
   "execution_count": 1,
   "metadata": {},
   "outputs": [],
   "source": [
    "import re\n",
    "import pdfminer\n",
    "from subprocess import check_output\n",
    "from bs4 import BeautifulSoup\n",
    "from collections import defaultdict"
   ]
  },
  {
   "cell_type": "code",
   "execution_count": 2,
   "metadata": {},
   "outputs": [],
   "source": [
    "# install pdfminer with this:\n",
    "# pip3 install pdfminer.six"
   ]
  },
  {
   "cell_type": "code",
   "execution_count": 3,
   "metadata": {},
   "outputs": [],
   "source": [
    "# run this in shell to grab file:\n",
    "# curl \"https://madison.legistar.com/View.ashx?M=A&ID=782498&GUID=95864EAA-10C1-4866-AA34-C134B80BA5F5\" -o agenda.pdf"
   ]
  },
  {
   "cell_type": "code",
   "execution_count": 4,
   "metadata": {},
   "outputs": [],
   "source": [
    "s = check_output([\"pdf2txt.py\", \"-t\", \"html\", \"-Y\", \"loose\", \"agenda.pdf\"])"
   ]
  },
  {
   "cell_type": "code",
   "execution_count": 5,
   "metadata": {},
   "outputs": [],
   "source": [
    "page = BeautifulSoup(s)\n",
    "text = {} # key=(x,y), val=text\n",
    "\n",
    "for div in page.find_all(\"div\"):\n",
    "    style = div.attrs.get(\"style\", \"\")\n",
    "    m1 = re.search(\"left:(\\d+)px\", style)\n",
    "    m2 = re.search(\"top:(\\d+)px\", style)\n",
    "    if m1 and m2:\n",
    "        x, y = int(m1.group(1)), int(m2.group(1))\n",
    "        text[(x,y)] = div.get_text()"
   ]
  },
  {
   "cell_type": "code",
   "execution_count": 6,
   "metadata": {},
   "outputs": [
    {
     "data": {
      "text/plain": [
       "{3: 'Opening Comments - Mayor Satya Rhodes-Conway (10 minutes)\\nMetro Route Restructure, Complete Streets, Parking Ordinance and TOD \\nOverlay, BRT\\n \\n',\n",
       " 4: 'Introduction of New Transit General Manager - Tom Lynch, Justin Stuehrenberg \\n(10 minutes)\\n \\n',\n",
       " 5: 'Adopting the Oscar Mayer Special Area Plan as a Supplement to the City of \\nMadison Comprehensive Plan.\\n',\n",
       " 6: 'Amending the timeline for final Staff Team recommendations on parking \\npolicies as adopted by RES-19-00321 (Legistar File ID 54961) on 4/16/2019.\\n',\n",
       " 7: 'Authorizing the Mayor and the City Clerk to enter into a project agreement with \\nthe Wisconsin Department of Transportation (WisDOT) and other project \\npartners to construct an interchange at USH 12/18 and County AB. (16 AD)\\n',\n",
       " 8: 'Metro Status and Update on Metro Restructure RFP - Mike Cechvala\\n \\n',\n",
       " 9: 'COVID-19 Transportation Items - Tom Lynch, Sabrina Tolley\\n \\n',\n",
       " 10: 'Wilson Street Corridor Plan \\n \\n',\n",
       " 11: 'Vehicle Miles Traveled and Mobility Initiatives\\n \\n',\n",
       " 12: 'Vision Zero Advance Projects\\n \\n',\n",
       " 13: 'Update on Complete Streets RFP\\n \\n',\n",
       " 14: 'TPPB Role in COVID-19 Recovery Planning (10 minutes)\\n \\n',\n",
       " 15: 'General Announcements by the Chair (5 minutes)\\n \\n',\n",
       " 16: 'Future Meeting Schedule (5 minutes)\\n     Next TPPB Meeting\\n     Joint Meeting\\n     Traffic Calming Workgroup\\n \\n'}"
      ]
     },
     "execution_count": 6,
     "metadata": {},
     "output_type": "execute_result"
    }
   ],
   "source": [
    "def find_near(x, y):\n",
    "    for x_ in range(x-5, x+5):\n",
    "        for y_ in range(y-5, y+5):\n",
    "            if (x_, y_) in text:\n",
    "                return text[(x_, y_)]\n",
    "    return None\n",
    "\n",
    "agenda_list = {}\n",
    "\n",
    "for (x,y), t in text.items():\n",
    "    # agenda items are roughly at x=170\n",
    "    if 165 < x < 175:\n",
    "        # agenda numbers are rougly at x=69, same y as text\n",
    "        num = find_near(69, y)\n",
    "        if num:\n",
    "            agenda_list[int(num.split(\".\")[0])] = t\n",
    "\n",
    "agenda_list"
   ]
  },
  {
   "cell_type": "code",
   "execution_count": null,
   "metadata": {},
   "outputs": [],
   "source": []
  }
 ],
 "metadata": {
  "kernelspec": {
   "display_name": "Python 3",
   "language": "python",
   "name": "python3"
  },
  "language_info": {
   "codemirror_mode": {
    "name": "ipython",
    "version": 3
   },
   "file_extension": ".py",
   "mimetype": "text/x-python",
   "name": "python",
   "nbconvert_exporter": "python",
   "pygments_lexer": "ipython3",
   "version": "3.7.2"
  }
 },
 "nbformat": 4,
 "nbformat_minor": 2
}
