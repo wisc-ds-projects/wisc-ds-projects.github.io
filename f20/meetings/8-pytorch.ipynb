{
 "cells": [
  {
   "cell_type": "code",
   "execution_count": 1,
   "metadata": {},
   "outputs": [
    {
     "data": {
      "text/plain": [
       "[<matplotlib.lines.Line2D at 0x7f8b6c5a1e48>]"
      ]
     },
     "execution_count": 1,
     "metadata": {},
     "output_type": "execute_result"
    },
    {
     "data": {
      "image/png": "[encoded data removed]",
      "text/plain": [
       "<Figure size 432x288 with 1 Axes>"
      ]
     },
     "metadata": {
      "needs_background": "light"
     },
     "output_type": "display_data"
    }
   ],
   "source": [
    "import numpy as np\n",
    "import pandas as pd\n",
    "import torch\n",
    "\n",
    "class LR:\n",
    "    def fit(self, X, y):\n",
    "        X = torch.tensor(X, dtype=torch.float)\n",
    "        y = torch.tensor(y, dtype=torch.float)\n",
    "        self.c = torch.normal(0, 0.1, (X.shape[1],), requires_grad=True)\n",
    "        self.b = torch.normal(0, 0.1, (1,), requires_grad=True)\n",
    "\n",
    "        optimizer = torch.optim.SGD([self.c, self.b], lr=0.001)\n",
    "        for i in range(1000):\n",
    "            optimizer.zero_grad()\n",
    "            y_pred = self.predict(X)\n",
    "            loss = ((y - y_pred) ** 2).sum()\n",
    "            loss.backward()\n",
    "            optimizer.step()\n",
    "\n",
    "        self.c = self.c.data.numpy()\n",
    "        self.b = self.b.data.numpy()\n",
    "\n",
    "    def predict(self, X):\n",
    "        return X @ self.c + self.b\n",
    "\n",
    "# scatter\n",
    "df = pd.DataFrame()\n",
    "df[\"x\"] = np.random.uniform(0,10,size=20)\n",
    "df[\"y\"] = 10 - 2*df[\"x\"] + np.random.normal(size=len(df))\n",
    "ax = df.plot.scatter(x=\"x\", y=\"y\")\n",
    "\n",
    "# fit line\n",
    "lr = LR()\n",
    "lr.fit(df[[\"x\"]].values, df[\"y\"].values)\n",
    "x = np.arange(0,10,0.1)\n",
    "y = lr.predict(x.reshape(-1,1))\n",
    "ax.plot(x, y)"
   ]
  },
  {
   "cell_type": "code",
   "execution_count": null,
   "metadata": {},
   "outputs": [],
   "source": []
  }
 ],
 "metadata": {
  "kernelspec": {
   "display_name": "Python 3",
   "language": "python",
   "name": "python3"
  },
  "language_info": {
   "codemirror_mode": {
    "name": "ipython",
    "version": 3
   },
   "file_extension": ".py",
   "mimetype": "text/x-python",
   "name": "python",
   "nbconvert_exporter": "python",
   "pygments_lexer": "ipython3",
   "version": "3.6.9"
  }
 },
 "nbformat": 4,
 "nbformat_minor": 4
}
