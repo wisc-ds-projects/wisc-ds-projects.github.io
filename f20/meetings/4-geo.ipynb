{
 "cells": [
  {
   "cell_type": "code",
   "execution_count": 1,
   "metadata": {},
   "outputs": [],
   "source": [
    "import pandas\n",
    "import requests\n",
    "import geopandas\n",
    "from shapely.geometry import Point"
   ]
  },
  {
   "cell_type": "code",
   "execution_count": 2,
   "metadata": {},
   "outputs": [],
   "source": [
    "%matplotlib inline"
   ]
  },
  {
   "cell_type": "code",
   "execution_count": 3,
   "metadata": {},
   "outputs": [
    {
     "data": {
      "text/plain": [
       "{'results': [{'address_components': [{'long_name': '1600',\n",
       "     'short_name': '1600',\n",
       "     'types': ['street_number']},\n",
       "    {'long_name': 'Amphitheatre Parkway',\n",
       "     'short_name': 'Amphitheatre Pkwy',\n",
       "     'types': ['route']},\n",
       "    {'long_name': 'Mountain View',\n",
       "     'short_name': 'Mountain View',\n",
       "     'types': ['locality', 'political']},\n",
       "    {'long_name': 'Santa Clara County',\n",
       "     'short_name': 'Santa Clara County',\n",
       "     'types': ['administrative_area_level_2', 'political']},\n",
       "    {'long_name': 'California',\n",
       "     'short_name': 'CA',\n",
       "     'types': ['administrative_area_level_1', 'political']},\n",
       "    {'long_name': 'United States',\n",
       "     'short_name': 'US',\n",
       "     'types': ['country', 'political']},\n",
       "    {'long_name': '94043', 'short_name': '94043', 'types': ['postal_code']}],\n",
       "   'formatted_address': '1600 Amphitheatre Pkwy, Mountain View, CA 94043, USA',\n",
       "   'geometry': {'location': {'lat': 37.4217404, 'lng': -122.0857054},\n",
       "    'location_type': 'ROOFTOP',\n",
       "    'viewport': {'northeast': {'lat': 37.42308938029149,\n",
       "      'lng': -122.0843564197085},\n",
       "     'southwest': {'lat': 37.42039141970849, 'lng': -122.0870543802915}}},\n",
       "   'place_id': 'ChIJVYBZP-Oxj4ARls-qJ_G3tgM',\n",
       "   'plus_code': {'compound_code': 'CWC7+MP Mountain View, CA, USA',\n",
       "    'global_code': '849VCWC7+MP'},\n",
       "   'types': ['street_address']}],\n",
       " 'status': 'OK'}"
      ]
     },
     "execution_count": 3,
     "metadata": {},
     "output_type": "execute_result"
    }
   ],
   "source": [
    "with open(\"geo.key\") as f:\n",
    "    password = f.read().strip()\n",
    "url = f\"https://maps.googleapis.com/maps/api/geocode/json?address=1600+Amphitheatre+Parkway,+Mountain+View,+CA&key={password}\"\n",
    "r = requests.get(url)\n",
    "r.raise_for_status()\n",
    "r.json()"
   ]
  },
  {
   "cell_type": "code",
   "execution_count": 4,
   "metadata": {},
   "outputs": [
    {
     "data": {
      "text/plain": [
       "{'lat': 37.4217404, 'lng': -122.0857054}"
      ]
     },
     "execution_count": 4,
     "metadata": {},
     "output_type": "execute_result"
    }
   ],
   "source": [
    "r.json()[\"results\"][0][\"geometry\"][\"location\"]"
   ]
  },
  {
   "cell_type": "code",
   "execution_count": 5,
   "metadata": {},
   "outputs": [],
   "source": [
    "def get_geo_df(addrs=[]):\n",
    "    rows = []\n",
    "    for addr in addrs:\n",
    "        url = f\"https://maps.googleapis.com/maps/api/geocode/json?address={addr}&key={password}\"\n",
    "        r = requests.get(url)\n",
    "        r.raise_for_status()\n",
    "        coords = r.json()[\"results\"][0][\"geometry\"][\"location\"]\n",
    "        rows.append({\n",
    "            \"addr\":addr,\n",
    "            \"loc\": Point(coords[\"lng\"], coords[\"lat\"])\n",
    "        })\n",
    "    return geopandas.GeoDataFrame(rows, geometry=\"loc\")\n",
    "    \n",
    "df = get_geo_df([\n",
    "    \"Wisconsin State Capitol\",\n",
    "    \"1210 W. Dayton St., Madison, WI\",\n",
    "])"
   ]
  },
  {
   "cell_type": "code",
   "execution_count": 6,
   "metadata": {},
   "outputs": [],
   "source": [
    "# !wget https://opendata.arcgis.com/datasets/db89adb17d414649a71c0f29ea73e5bf_6.zip -O city.zip"
   ]
  },
  {
   "cell_type": "code",
   "execution_count": 7,
   "metadata": {},
   "outputs": [
    {
     "data": {
      "text/plain": [
       "<matplotlib.axes._subplots.AxesSubplot at 0x7fd05477e0b8>"
      ]
     },
     "execution_count": 7,
     "metadata": {},
     "output_type": "execute_result"
    },
    {
     "data": {
      "image/png": "[encoded data removed]",
      "text/plain": [
       "<Figure size 432x288 with 1 Axes>"
      ]
     },
     "metadata": {
      "needs_background": "light"
     },
     "output_type": "display_data"
    }
   ],
   "source": [
    "ax = geopandas.read_file(\"zip://city.zip\").plot(color=\"0.8\")\n",
    "df.plot(ax=ax, color=\"red\")"
   ]
  }
 ],
 "metadata": {
  "kernelspec": {
   "display_name": "Python 3",
   "language": "python",
   "name": "python3"
  },
  "language_info": {
   "codemirror_mode": {
    "name": "ipython",
    "version": 3
   },
   "file_extension": ".py",
   "mimetype": "text/x-python",
   "name": "python",
   "nbconvert_exporter": "python",
   "pygments_lexer": "ipython3",
   "version": "3.7.2"
  }
 },
 "nbformat": 4,
 "nbformat_minor": 2
}
